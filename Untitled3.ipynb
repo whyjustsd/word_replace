{
  "nbformat": 4,
  "nbformat_minor": 0,
  "metadata": {
    "colab": {
      "provenance": [],
      "authorship_tag": "ABX9TyM1Wupkc0C+OIa3VF6UALlT",
      "include_colab_link": true
    },
    "kernelspec": {
      "name": "python3",
      "display_name": "Python 3"
    },
    "language_info": {
      "name": "python"
    }
  },
  "cells": [
    {
      "cell_type": "markdown",
      "metadata": {
        "id": "view-in-github",
        "colab_type": "text"
      },
      "source": [
        "<a href=\"https://colab.research.google.com/github/whyjustsd/word_replace/blob/main/Untitled3.ipynb\" target=\"_parent\"><img src=\"https://colab.research.google.com/assets/colab-badge.svg\" alt=\"Open In Colab\"/></a>"
      ]
    },
    {
      "cell_type": "code",
      "execution_count": 1,
      "metadata": {
        "colab": {
          "base_uri": "https://localhost:8080/"
        },
        "id": "y_NiwUIQGle2",
        "outputId": "6dd9820f-36ed-41f8-8681-03ffdf5b14af"
      },
      "outputs": [
        {
          "output_type": "stream",
          "name": "stdout",
          "text": [
            "enter the word you want to replace: hey\n",
            "enter the word replacement: hi\n",
            "hi boy, mey man, hi whats'up\n"
          ]
        }
      ],
      "source": [
        "def replace_word():\n",
        "\n",
        "    str = \"hey boy, mey man, hey whats'up\"\n",
        "    word_to_replace = input(\"enter the word you want to replace: \")\n",
        "    word_replacement = input(\"enter the word replacement: \")\n",
        "    print(str.replace(word_to_replace,word_replacement))\n",
        "\n",
        "replace_word()"
      ]
    }
  ]
}